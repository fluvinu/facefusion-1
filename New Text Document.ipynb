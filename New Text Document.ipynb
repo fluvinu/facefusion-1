{
 "cells": [
  {
   "cell_type": "code",
   "execution_count": null,
   "id": "66012a0b",
   "metadata": {},
   "outputs": [],
   "source": [
    "# Clone the repository\n",
    "!git clone https://github.com/fluvinu/facefusion-1.git --branch 2.1.3 --single-branch"
   ]
  },
  {
   "cell_type": "code",
   "execution_count": null,
   "id": "5b83d81e",
   "metadata": {},
   "outputs": [],
   "source": [
    "# Change directory to facefusion-1\n",
    "%cd facefusion-1"
   ]
  },
  {
   "cell_type": "code",
   "execution_count": null,
   "id": "3c2e5399",
   "metadata": {},
   "outputs": [],
   "source": [
    "# Install dependencies\n",
    "!python install.py --torch cuda-nightly --onnxruntime cuda-nightly --skip-venv"
   ]
  },
  {
   "cell_type": "code",
   "execution_count": null,
   "id": "d0fda97f",
   "metadata": {},
   "outputs": [],
   "source": [
    "# Run the application\n",
    "!python run.py"
   ]
  }
 ],
 "metadata": {
  "colab": {
   "name": "FaceFusion_Setup_and_Run.ipynb",
   "provenance": []
  },
  "kernelspec": {
   "display_name": "Python 3",
   "language": "python",
   "name": "python3"
  },
  "language_info": {
   "codemirror_mode": {
    "name": "ipython",
    "version": 3
   },
   "file_extension": ".py",
   "mimetype": "text/x-python",
   "name": "python",
   "nbconvert_exporter": "python",
   "pygments_lexer": "ipython3",
   "version": "3.7.10"
  }
 },
 "nbformat": 4,
 "nbformat_minor": 5
}
